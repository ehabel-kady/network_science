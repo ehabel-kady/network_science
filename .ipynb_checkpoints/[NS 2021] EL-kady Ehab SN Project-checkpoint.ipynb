{
 "cells": [
  {
   "cell_type": "markdown",
   "metadata": {},
   "source": [
    "# VK Network Analysis Project\n"
   ]
  },
  {
   "cell_type": "markdown",
   "metadata": {},
   "source": [
    "# 1. Network Summary"
   ]
  },
  {
   "cell_type": "markdown",
   "metadata": {},
   "source": [
    "## Network Source\n",
    "The source of network is vk and I used vk_api python module `https://pypi.org/project/vk-api/` to load the data from vk. I used vk account of a friend of mine as I created recently my vk account and I have only 24 or 25 friends so It's a few number of nodes. The vk account I used has 550 friends which is 550 number of nodes. This is link to the account used `https://vk.com/artur__avetisyan`"
   ]
  },
  {
   "cell_type": "code",
   "execution_count": 1,
   "metadata": {},
   "outputs": [],
   "source": [
    "from __future__ import division\n",
    "import vk_api\n",
    "import networkx as nx\n",
    "import matplotlib.pyplot as plt\n",
    "import numpy as np\n",
    "import scipy.spatial as spt\n",
    "import pandas as pd\n",
    "from collections import Counter"
   ]
  },
  {
   "cell_type": "code",
   "execution_count": 2,
   "metadata": {},
   "outputs": [],
   "source": [
    "username = \"funky1998@yahoo.com\"\n",
    "password = 'Ehab2010'\n",
    "vk_session = vk_api.VkApi(username, password)\n",
    "vk_session.auth()\n",
    "vk = vk_session.get_api()\n",
    "friends_ids = vk.friends.get()[\"items\"]"
   ]
  },
  {
   "cell_type": "markdown",
   "metadata": {},
   "source": [
    "## Loading & Preprocessing "
   ]
  },
  {
   "cell_type": "code",
   "execution_count": 3,
   "metadata": {},
   "outputs": [],
   "source": [
    "graph_realtions = {}\n",
    "deleted_friends = []\n",
    "\n",
    "for friend_id in friends_ids:\n",
    "    try:\n",
    "        graph_realtions[friend_id] = vk.friends.get(user_id = friend_id)[\"items\"]\n",
    "    except:\n",
    "        deleted_friends.append(friend_id)"
   ]
  },
  {
   "cell_type": "markdown",
   "metadata": {},
   "source": [
    "## setting the nodes and attributes of the graph\n",
    "In this section, I initialize the graph nodes, pull the rest of the data for each user, setting graph attributes and initializing a dataframe for the user data to do a summary."
   ]
  },
  {
   "cell_type": "code",
   "execution_count": 4,
   "metadata": {},
   "outputs": [],
   "source": [
    "G = nx.Graph(directed=False)\n",
    "for node_i in graph_realtions:\n",
    "    G.add_node(node_i)\n",
    "    for node_j in graph_realtions[node_i]:\n",
    "        if node_i != node_j and node_i in friends_ids and node_j in friends_ids:\n",
    "            G.add_edge(node_i, node_j)"
   ]
  },
  {
   "cell_type": "code",
   "execution_count": 5,
   "metadata": {},
   "outputs": [],
   "source": [
    "fields = ['first_name', 'last_name', 'sex', 'relation', 'city', 'education', 'personal']\n",
    "fields_str = ','.join(fields)\n",
    "\n",
    "users_data = []\n",
    "for node in G.nodes:\n",
    "    users_data.append( vk.users.get(user_ids=str(node), fields=fields_str, lang='en')[0])"
   ]
  },
  {
   "cell_type": "code",
   "execution_count": 6,
   "metadata": {},
   "outputs": [],
   "source": [
    "graph_data = {\n",
    "    'id': [user['id'] for user in users_data],\n",
    "    'name': [user['first_name']+' '+user['last_name'] for user in users_data],\n",
    "    'sex': [user['sex'] for user in users_data],\n",
    "    'city': [user['city']['title'] if 'city' in user else None for user in users_data],\n",
    "    'university': [user['university'] if 'university' in user else 0 for user in users_data],\n",
    "    'relationship': [user['relation'] if 'relation' in user else 0 for user in users_data],\n",
    "    'friends': [],\n",
    "    'smoking': [user['personal']['smoking'] if 'personal' in user and 'smoking' in user['personal'] else 0 for user in users_data],\n",
    "    'alcohol': [user['personal']['alcohol'] if 'personal' in user and 'alcohol' in user['personal'] else 0 for user in users_data],\n",
    "    'life_main': [user['personal']['life_main'] if 'personal' in user and 'life_main' in user['personal'] else 0 for user in users_data],\n",
    "    'people_main': [user['personal']['people_main'] if 'personal' in user and 'people_main' in user['personal'] else 0 for user in users_data]\n",
    "}"
   ]
  },
  {
   "cell_type": "code",
   "execution_count": 7,
   "metadata": {},
   "outputs": [],
   "source": [
    "friends_count = []\n",
    "for i in graph_data['id']:\n",
    "    friends_count.append(len(graph_realtions[i]))\n",
    "graph_data['friends'] = friends_count"
   ]
  },
  {
   "cell_type": "code",
   "execution_count": 8,
   "metadata": {},
   "outputs": [],
   "source": [
    "df = pd.DataFrame(data=graph_data)"
   ]
  },
  {
   "cell_type": "code",
   "execution_count": 9,
   "metadata": {},
   "outputs": [
    {
     "data": {
      "text/html": [
       "<div>\n",
       "<style scoped>\n",
       "    .dataframe tbody tr th:only-of-type {\n",
       "        vertical-align: middle;\n",
       "    }\n",
       "\n",
       "    .dataframe tbody tr th {\n",
       "        vertical-align: top;\n",
       "    }\n",
       "\n",
       "    .dataframe thead th {\n",
       "        text-align: right;\n",
       "    }\n",
       "</style>\n",
       "<table border=\"1\" class=\"dataframe\">\n",
       "  <thead>\n",
       "    <tr style=\"text-align: right;\">\n",
       "      <th></th>\n",
       "      <th>id</th>\n",
       "      <th>name</th>\n",
       "      <th>sex</th>\n",
       "      <th>city</th>\n",
       "      <th>university</th>\n",
       "      <th>relationship</th>\n",
       "      <th>friends</th>\n",
       "      <th>smoking</th>\n",
       "      <th>alcohol</th>\n",
       "      <th>life_main</th>\n",
       "      <th>people_main</th>\n",
       "    </tr>\n",
       "  </thead>\n",
       "  <tbody>\n",
       "    <tr>\n",
       "      <th>0</th>\n",
       "      <td>18218517</td>\n",
       "      <td>Yana Mukhina</td>\n",
       "      <td>1</td>\n",
       "      <td>Saint Petersburg</td>\n",
       "      <td>17</td>\n",
       "      <td>0</td>\n",
       "      <td>271</td>\n",
       "      <td>0</td>\n",
       "      <td>0</td>\n",
       "      <td>5</td>\n",
       "      <td>0</td>\n",
       "    </tr>\n",
       "    <tr>\n",
       "      <th>1</th>\n",
       "      <td>66881193</td>\n",
       "      <td>Regina Fakhreeva</td>\n",
       "      <td>1</td>\n",
       "      <td>Ufa</td>\n",
       "      <td>0</td>\n",
       "      <td>0</td>\n",
       "      <td>194</td>\n",
       "      <td>0</td>\n",
       "      <td>0</td>\n",
       "      <td>0</td>\n",
       "      <td>0</td>\n",
       "    </tr>\n",
       "    <tr>\n",
       "      <th>2</th>\n",
       "      <td>77908220</td>\n",
       "      <td>Sofia Gorelkina</td>\n",
       "      <td>1</td>\n",
       "      <td>Saint Petersburg</td>\n",
       "      <td>1</td>\n",
       "      <td>0</td>\n",
       "      <td>297</td>\n",
       "      <td>0</td>\n",
       "      <td>0</td>\n",
       "      <td>6</td>\n",
       "      <td>1</td>\n",
       "    </tr>\n",
       "    <tr>\n",
       "      <th>3</th>\n",
       "      <td>175409628</td>\n",
       "      <td>Maxim Beresnev</td>\n",
       "      <td>2</td>\n",
       "      <td>Saint Petersburg</td>\n",
       "      <td>17</td>\n",
       "      <td>0</td>\n",
       "      <td>157</td>\n",
       "      <td>2</td>\n",
       "      <td>0</td>\n",
       "      <td>0</td>\n",
       "      <td>0</td>\n",
       "    </tr>\n",
       "    <tr>\n",
       "      <th>4</th>\n",
       "      <td>36810226</td>\n",
       "      <td>Ivan Griga</td>\n",
       "      <td>2</td>\n",
       "      <td>None</td>\n",
       "      <td>0</td>\n",
       "      <td>0</td>\n",
       "      <td>354</td>\n",
       "      <td>0</td>\n",
       "      <td>0</td>\n",
       "      <td>0</td>\n",
       "      <td>0</td>\n",
       "    </tr>\n",
       "  </tbody>\n",
       "</table>\n",
       "</div>"
      ],
      "text/plain": [
       "          id              name  sex              city  university  \\\n",
       "0   18218517      Yana Mukhina    1  Saint Petersburg          17   \n",
       "1   66881193  Regina Fakhreeva    1               Ufa           0   \n",
       "2   77908220   Sofia Gorelkina    1  Saint Petersburg           1   \n",
       "3  175409628    Maxim Beresnev    2  Saint Petersburg          17   \n",
       "4   36810226        Ivan Griga    2              None           0   \n",
       "\n",
       "   relationship  friends  smoking  alcohol  life_main  people_main  \n",
       "0             0      271        0        0          5            0  \n",
       "1             0      194        0        0          0            0  \n",
       "2             0      297        0        0          6            1  \n",
       "3             0      157        2        0          0            0  \n",
       "4             0      354        0        0          0            0  "
      ]
     },
     "execution_count": 9,
     "metadata": {},
     "output_type": "execute_result"
    }
   ],
   "source": [
    "df.head()"
   ]
  },
  {
   "cell_type": "code",
   "execution_count": 10,
   "metadata": {},
   "outputs": [],
   "source": [
    "# setting the attributes for the nodes\n",
    "for key in df:\n",
    "    if key == 'id':\n",
    "        continue\n",
    "    attribute = dict(zip(list(df['id']), list(df[key])))\n",
    "    nx.set_node_attributes(G, attribute, key)"
   ]
  },
  {
   "cell_type": "markdown",
   "metadata": {},
   "source": [
    "## Size and Order"
   ]
  },
  {
   "cell_type": "code",
   "execution_count": 11,
   "metadata": {},
   "outputs": [
    {
     "name": "stdout",
     "output_type": "stream",
     "text": [
      "Number of Nodes:  25\n",
      "Number of Edges:  27\n",
      "Number of Connected components:  13\n"
     ]
    }
   ],
   "source": [
    "print('Number of Nodes: ', G.number_of_nodes())\n",
    "print('Number of Edges: ', G.number_of_edges())\n",
    "print('Number of Connected components: ', nx.number_connected_components(G))"
   ]
  },
  {
   "cell_type": "markdown",
   "metadata": {},
   "source": [
    "The number of nodes is the the number of friends of the profile used for the analysis and It's less than the total number from the profile because there are some profiles that are blocked or deleted from VK, so they are not included in the analysis. Number of edges is the number of connections formed between nodes."
   ]
  },
  {
   "cell_type": "code",
   "execution_count": 16,
   "metadata": {},
   "outputs": [
    {
     "name": "stdout",
     "output_type": "stream",
     "text": [
      "component 1 has 4 nodes\n",
      "component 2 has 9 nodes\n",
      "component 3 has 1 nodes\n",
      "component 4 has 1 nodes\n",
      "component 5 has 1 nodes\n",
      "component 6 has 2 nodes\n",
      "component 7 has 1 nodes\n",
      "component 8 has 1 nodes\n",
      "component 9 has 1 nodes\n",
      "component 10 has 1 nodes\n",
      "component 11 has 1 nodes\n",
      "component 12 has 1 nodes\n",
      "component 13 has 1 nodes\n"
     ]
    }
   ],
   "source": [
    "c_components = list(nx.connected_components(G))\n",
    "for i in range(len(c_components)):\n",
    "    print('component {0} has {1} nodes'.format(i+1, len(c_components[i])))"
   ]
  },
  {
   "cell_type": "markdown",
   "metadata": {},
   "source": [
    "## Diameter and Radius"
   ]
  },
  {
   "cell_type": "code",
   "execution_count": 18,
   "metadata": {},
   "outputs": [],
   "source": [
    "sub_G = G.subgraph(c_components[1])"
   ]
  },
  {
   "cell_type": "code",
   "execution_count": null,
   "metadata": {},
   "outputs": [],
   "source": []
  }
 ],
 "metadata": {
  "kernelspec": {
   "display_name": "Python 3",
   "language": "python",
   "name": "python3"
  },
  "language_info": {
   "codemirror_mode": {
    "name": "ipython",
    "version": 3
   },
   "file_extension": ".py",
   "mimetype": "text/x-python",
   "name": "python",
   "nbconvert_exporter": "python",
   "pygments_lexer": "ipython3",
   "version": "3.7.9"
  }
 },
 "nbformat": 4,
 "nbformat_minor": 4
}
